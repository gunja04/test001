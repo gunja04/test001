{
 "cells": [
  {
   "cell_type": "markdown",
   "metadata": {},
   "source": [
    "1. Add the current date to the text file today.txt as a string."
   ]
  },
  {
   "cell_type": "code",
   "execution_count": 1,
   "metadata": {},
   "outputs": [
    {
     "data": {
      "text/plain": [
       "'2022-08-03'"
      ]
     },
     "execution_count": 1,
     "metadata": {},
     "output_type": "execute_result"
    }
   ],
   "source": [
    "import datetime\n",
    "from datetime import date\n",
    "cur = date.today()\n",
    "cur_date = cur.isoformat()\n",
    "cur_date"
   ]
  },
  {
   "cell_type": "code",
   "execution_count": 2,
   "metadata": {},
   "outputs": [],
   "source": [
    "with open('today.txt','w') as file:\n",
    "    file.write(cur_date)"
   ]
  },
  {
   "cell_type": "markdown",
   "metadata": {},
   "source": [
    "2. Read the text file today.txt into the string today_string"
   ]
  },
  {
   "cell_type": "code",
   "execution_count": 3,
   "metadata": {},
   "outputs": [
    {
     "data": {
      "text/plain": [
       "'2022-08-03'"
      ]
     },
     "execution_count": 3,
     "metadata": {},
     "output_type": "execute_result"
    }
   ],
   "source": [
    "with open('today.txt','r') as file:\n",
    "    today_string = file.read()\n",
    "today_string"
   ]
  },
  {
   "cell_type": "markdown",
   "metadata": {},
   "source": [
    "3. Parse the date from today_string."
   ]
  },
  {
   "cell_type": "code",
   "execution_count": 4,
   "metadata": {},
   "outputs": [
    {
     "data": {
      "text/plain": [
       "datetime.datetime(2022, 8, 3, 0, 0)"
      ]
     },
     "execution_count": 4,
     "metadata": {},
     "output_type": "execute_result"
    }
   ],
   "source": [
    "from datetime import datetime\n",
    "format = '%Y-%m-%d'\n",
    "datetime.strptime(today_string,format)"
   ]
  },
  {
   "cell_type": "markdown",
   "metadata": {},
   "source": [
    "4. List the files in your current directory"
   ]
  },
  {
   "cell_type": "code",
   "execution_count": 5,
   "metadata": {},
   "outputs": [
    {
     "name": "stdout",
     "output_type": "stream",
     "text": [
      " Volume in drive C is OS\n",
      " Volume Serial Number is 0022-2A8B\n",
      "\n",
      " Directory of C:\\Users\\ANUP\n",
      "\n",
      "03-08-2022  14:33    <DIR>          .\n",
      "03-08-2022  14:33    <DIR>          ..\n",
      "31-01-2022  06:58    <DIR>          .android\n",
      "19-03-2018  07:07    <DIR>          .atom\n",
      "04-04-2020  10:43    <DIR>          .cisco\n",
      "22-01-2022  11:33    <DIR>          .conda\n",
      "04-03-2021  10:23                43 .condarc\n",
      "29-07-2022  22:33    <DIR>          .ipynb_checkpoints\n",
      "02-03-2021  17:22    <DIR>          .ipython\n",
      "24-02-2022  19:43    <DIR>          .jupyter\n",
      "22-09-2021  14:49    <DIR>          .matplotlib\n",
      "06-07-2022  05:55    <DIR>          .ms-ad\n",
      "10-09-2018  19:58    <DIR>          .oracle_jre_usage\n",
      "29-06-2018  14:03    <DIR>          .soapuios\n",
      "04-03-2021  14:41    <DIR>          .spyder-py3\n",
      "04-07-2018  11:38    <DIR>          .vscode\n",
      "29-07-2022  22:49    <DIR>          __pycache__\n",
      "21-12-2020  15:00    <DIR>          3D Objects\n",
      "25-02-2021  13:15    <DIR>          anaconda3\n",
      "06-07-2022  11:44           193,302 animal.jpeg\n",
      "29-07-2022  23:48               207 books.csv\n",
      "29-07-2022  23:50             8,192 books.db\n",
      "21-12-2020  15:00    <DIR>          Contacts\n",
      "19-03-2020  17:13               254 default-soapui-workspace.xml\n",
      "26-07-2022  11:22    <DIR>          Desktop\n",
      "27-05-2022  12:01    <DIR>          Documents\n",
      "02-08-2022  05:58    <DIR>          Downloads\n",
      "21-12-2020  15:00    <DIR>          Favorites\n",
      "24-02-2022  20:11             8,192 ineuron.db\n",
      "21-12-2020  15:00    <DIR>          Links\n",
      "20-12-2021  22:34               914 monthly expesne.txt\n",
      "21-12-2020  15:00    <DIR>          Music\n",
      "22-01-2022  11:10    <DIR>          my_project\n",
      "01-08-2022  05:59    <DIR>          OneDrive\n",
      "14-06-2020  16:06    <DIR>          opera autoupdate\n",
      "21-12-2020  15:00    <DIR>          Pictures\n",
      "01-04-2020  23:50    <DIR>          Postman\n",
      "06-07-2022  12:03               313 purpleImage.png\n",
      "22-01-2022  11:33    <DIR>          PycharmProjects\n",
      "04-03-2021  18:18           282,752 python script mine 040321.ipynb\n",
      "06-07-2022  12:07            22,151 reanimal.png\n",
      "20-02-2017  16:21    <DIR>          Roaming\n",
      "21-12-2020  15:00    <DIR>          Saved Games\n",
      "21-12-2020  15:00    <DIR>          Searches\n",
      "19-03-2020  17:13             2,228 soapui-settings.xml\n",
      "29-06-2018  14:03    <DIR>          SoapUI-Tutorials\n",
      "24-02-2022  23:15            10,229 SQLLITE.ipynb\n",
      "29-07-2022  23:48                44 test.txt\n",
      "29-07-2022  23:44                44 test1.txt\n",
      "03-08-2022  14:30                10 today.txt\n",
      "12-09-2017  21:25    <DIR>          Tracing\n",
      "29-07-2022  23:34            11,298 Untitled.ipynb\n",
      "30-07-2022  00:04            10,550 Untitled1.ipynb\n",
      "29-07-2022  22:57             4,671 Untitled19.ipynb\n",
      "03-08-2022  14:33             2,202 Untitled2.ipynb\n",
      "04-09-2021  17:16    <DIR>          Videos\n",
      "29-07-2022  22:48                44 zoo.py\n",
      "              20 File(s)        557,640 bytes\n",
      "              37 Dir(s)  22,052,782,080 bytes free\n"
     ]
    }
   ],
   "source": [
    "ls"
   ]
  },
  {
   "cell_type": "markdown",
   "metadata": {},
   "source": [
    "5. Create a list of all of the files in your parent directory (minimum five files should be available)."
   ]
  },
  {
   "cell_type": "code",
   "execution_count": 6,
   "metadata": {},
   "outputs": [
    {
     "data": {
      "text/plain": [
       "['.android',\n",
       " '.atom',\n",
       " '.cisco',\n",
       " '.conda',\n",
       " '.condarc',\n",
       " '.ipynb_checkpoints',\n",
       " '.ipython',\n",
       " '.jupyter',\n",
       " '.matplotlib',\n",
       " '.ms-ad',\n",
       " '.oracle_jre_usage',\n",
       " '.soapuios',\n",
       " '.spyder-py3',\n",
       " '.vscode',\n",
       " '3D Objects',\n",
       " 'anaconda3',\n",
       " 'animal.jpeg',\n",
       " 'AppData',\n",
       " 'Application Data',\n",
       " 'books.csv',\n",
       " 'books.db',\n",
       " 'Contacts',\n",
       " 'Cookies',\n",
       " 'default-soapui-workspace.xml',\n",
       " 'Desktop',\n",
       " 'Documents',\n",
       " 'Downloads',\n",
       " 'Favorites',\n",
       " 'ineuron.db',\n",
       " 'IntelGraphicsProfiles',\n",
       " 'Links',\n",
       " 'Local Settings',\n",
       " 'MicrosoftEdgeBackups',\n",
       " 'monthly expesne.txt',\n",
       " 'Music',\n",
       " 'My Documents',\n",
       " 'my_project',\n",
       " 'NetHood',\n",
       " 'NTUSER.DAT',\n",
       " 'ntuser.dat.LOG1',\n",
       " 'ntuser.dat.LOG2',\n",
       " 'NTUSER.DAT{b364120a-436d-11eb-88a0-9892f7497040}.TM.blf',\n",
       " 'NTUSER.DAT{b364120a-436d-11eb-88a0-9892f7497040}.TMContainer00000000000000000001.regtrans-ms',\n",
       " 'NTUSER.DAT{b364120a-436d-11eb-88a0-9892f7497040}.TMContainer00000000000000000002.regtrans-ms',\n",
       " 'ntuser.ini',\n",
       " 'OneDrive',\n",
       " 'opera autoupdate',\n",
       " 'Pictures',\n",
       " 'Postman',\n",
       " 'PrintHood',\n",
       " 'purpleImage.png',\n",
       " 'PycharmProjects',\n",
       " 'python script mine 040321.ipynb',\n",
       " 'reanimal.png',\n",
       " 'Recent',\n",
       " 'Roaming',\n",
       " 'Saved Games',\n",
       " 'Searches',\n",
       " 'SendTo',\n",
       " 'soapui-settings.xml',\n",
       " 'SoapUI-Tutorials',\n",
       " 'SQLLITE.ipynb',\n",
       " 'Start Menu',\n",
       " 'Templates',\n",
       " 'test.txt',\n",
       " 'test1.txt',\n",
       " 'today.txt',\n",
       " 'Tracing',\n",
       " 'Untitled.ipynb',\n",
       " 'Untitled1.ipynb',\n",
       " 'Untitled19.ipynb',\n",
       " 'Untitled2.ipynb',\n",
       " 'Videos',\n",
       " 'zoo.py',\n",
       " '__pycache__']"
      ]
     },
     "execution_count": 6,
     "metadata": {},
     "output_type": "execute_result"
    }
   ],
   "source": [
    "import os\n",
    "os.listdir('.')"
   ]
  },
  {
   "cell_type": "markdown",
   "metadata": {},
   "source": [
    "6. Use multiprocessing to create three separate processes. Make each one wait a random number of seconds between one and five, print the current time, and then exit."
   ]
  },
  {
   "cell_type": "code",
   "execution_count": 7,
   "metadata": {},
   "outputs": [],
   "source": [
    "import multiprocessing\n",
    "\n",
    "def printsec(seconds):\n",
    "    from datetime import datetime\n",
    "    from time import sleep\n",
    "    sleep(seconds)\n",
    "    print('wait', seconds, 'seconds, time is', datetime.utcnow())\n",
    "    \n",
    "if __name__ == '__main__':\n",
    "    import random    \n",
    "    for n in range(3):\n",
    "        seconds = random.random()\n",
    "        proc = multiprocessing.Process(target=printsec, args=(seconds,))\n",
    "        proc.start()"
   ]
  },
  {
   "cell_type": "code",
   "execution_count": 8,
   "metadata": {},
   "outputs": [
    {
     "name": "stderr",
     "output_type": "stream",
     "text": [
      "python: can't open file 'abc.py': [Errno 2] No such file or directory\n"
     ]
    }
   ],
   "source": [
    "!python abc.py"
   ]
  },
  {
   "cell_type": "markdown",
   "metadata": {},
   "source": [
    "7. Create a date object of your day of birth"
   ]
  },
  {
   "cell_type": "code",
   "execution_count": 11,
   "metadata": {},
   "outputs": [
    {
     "data": {
      "text/plain": [
       "datetime.date(1990, 5, 1)"
      ]
     },
     "execution_count": 11,
     "metadata": {},
     "output_type": "execute_result"
    }
   ],
   "source": [
    "my_dob = date(1990,5,1)\n",
    "my_dob"
   ]
  },
  {
   "cell_type": "markdown",
   "metadata": {},
   "source": [
    "8. What day of the week was your day of birth?"
   ]
  },
  {
   "cell_type": "code",
   "execution_count": 12,
   "metadata": {},
   "outputs": [
    {
     "data": {
      "text/plain": [
       "1"
      ]
     },
     "execution_count": 12,
     "metadata": {},
     "output_type": "execute_result"
    }
   ],
   "source": [
    "my_dob.weekday()"
   ]
  },
  {
   "cell_type": "markdown",
   "metadata": {},
   "source": [
    "8. When will you be (or when were you) 10,000 days old?"
   ]
  },
  {
   "cell_type": "code",
   "execution_count": 13,
   "metadata": {},
   "outputs": [
    {
     "data": {
      "text/plain": [
       "datetime.date(2017, 9, 16)"
      ]
     },
     "execution_count": 13,
     "metadata": {},
     "output_type": "execute_result"
    }
   ],
   "source": [
    "from datetime import timedelta\n",
    "day10000 = my_dob + timedelta(days=10000)\n",
    "day10000"
   ]
  },
  {
   "cell_type": "code",
   "execution_count": null,
   "metadata": {},
   "outputs": [],
   "source": []
  },
  {
   "cell_type": "code",
   "execution_count": null,
   "metadata": {},
   "outputs": [],
   "source": []
  }
 ],
 "metadata": {
  "kernelspec": {
   "display_name": "Python 3",
   "language": "python",
   "name": "python3"
  },
  "language_info": {
   "codemirror_mode": {
    "name": "ipython",
    "version": 3
   },
   "file_extension": ".py",
   "mimetype": "text/x-python",
   "name": "python",
   "nbconvert_exporter": "python",
   "pygments_lexer": "ipython3",
   "version": "3.8.5"
  }
 },
 "nbformat": 4,
 "nbformat_minor": 4
}
