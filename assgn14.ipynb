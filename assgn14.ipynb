{
 "cells": [
  {
   "cell_type": "markdown",
   "metadata": {},
   "source": [
    "1. What does RGBA stand for?\n",
    "Ans: RGBA value is a group of numbers that specify the amount of red, green, blue, and alpha (or transparency) in a color. Each of these component values is an integer from 0 (none at all) to 255 (the maximum). These RGBA values are assigned to individual pixels; a pixel is the smallest dot of a single color the computer screen can show.\n",
    "\n",
    "2. From the Pillow module, how do you get the RGBA value of any images?\n",
    "Ans: import the Image module from the Pillow library from PIL import Image.\n",
    "Open any image and get the RAGBAG values. img = Image.open('image.png') rgba = img.convert(“RGBA”) .\n",
    "\n",
    "3. What is a box tuple, and how does it work?\n",
    "Ans: The xy argument is a box tuple (left, top, right, bottom) that represents a box that precisely contains the ellipse.\n",
    "Many of Pillow’s functions and methods take a box tuple argument. This means Pillow is expecting a tuple of four integer coordinates that represent a rectangular region in an image. The four integers are, in order, as follows:\n",
    "\n",
    "Left The x-coordinate of the leftmost edge of the box.\n",
    "\n",
    "Top The y-coordinate of the top edge of the box.\n",
    "\n",
    "Right The x-coordinate of one pixel to the right of the rightmost edge of the box. This integer must be greater than the left integer.\n",
    "Bottom The y-coordinate of one pixel lower than the bottom edge of the box. This integer must be greater than the top integer.\n",
    "Note that the box includes the left and top coordinates and goes up to but does not include the right and bottom coordinates. "
   ]
  },
  {
   "cell_type": "code",
   "execution_count": 7,
   "metadata": {},
   "outputs": [
    {
     "data": {
      "text/plain": [
       "(1200, 900)"
      ]
     },
     "execution_count": 7,
     "metadata": {},
     "output_type": "execute_result"
    }
   ],
   "source": [
    "#4. Use your image and load in notebook then, How can you find out the width and height of an Image object?\n",
    "from PIL import Image\n",
    "anim = Image.open('animal.jpeg')\n",
    "anim.size"
   ]
  },
  {
   "cell_type": "code",
   "execution_count": 8,
   "metadata": {},
   "outputs": [],
   "source": [
    "width, height = anim.size"
   ]
  },
  {
   "cell_type": "code",
   "execution_count": 9,
   "metadata": {},
   "outputs": [
    {
     "data": {
      "text/plain": [
       "1200"
      ]
     },
     "execution_count": 9,
     "metadata": {},
     "output_type": "execute_result"
    }
   ],
   "source": [
    "width"
   ]
  },
  {
   "cell_type": "code",
   "execution_count": 10,
   "metadata": {},
   "outputs": [
    {
     "data": {
      "text/plain": [
       "900"
      ]
     },
     "execution_count": 10,
     "metadata": {},
     "output_type": "execute_result"
    }
   ],
   "source": [
    "height"
   ]
  },
  {
   "cell_type": "code",
   "execution_count": 15,
   "metadata": {},
   "outputs": [],
   "source": [
    "#5. What method would you call to get Image object for a 100×100 image, excluding the lower-left quarter of it?\n",
    "reanim = anim.resize((100,100))\n",
    "#6. After making changes to an Image object, how could you save it as an image file?\n",
    "reanim.save('reanimal.png')"
   ]
  },
  {
   "cell_type": "code",
   "execution_count": 13,
   "metadata": {},
   "outputs": [],
   "source": [
    "#5. What method would you call to get Image object for a 100×100 image, excluding the lower-left quarter of it?\n",
    "#6. After making changes to an Image object, how could you save it as an image file?\n",
    "im = Image.new('RGBA', (100, 100), 'purple')\n",
    "im.save('purpleImage.png')"
   ]
  },
  {
   "cell_type": "markdown",
   "metadata": {},
   "source": [
    "7. What module contains Pillow’s shape-drawing code?\n",
    "Ans: 'ImageDraw' module to draw points, lines, rectangles, ellipses, and polygons. The module also provides methods for drawing text in a typeface and font size of our choosing."
   ]
  },
  {
   "cell_type": "markdown",
   "metadata": {},
   "source": [
    "8. Image objects do not have drawing methods. What kind of object does? How do you get this kind of object?\n",
    "Ans: ImageDraw object has drawing methods. We can get it from: from PIL import Image, ImageDraw."
   ]
  }
 ],
 "metadata": {
  "kernelspec": {
   "display_name": "Python 3",
   "language": "python",
   "name": "python3"
  },
  "language_info": {
   "codemirror_mode": {
    "name": "ipython",
    "version": 3
   },
   "file_extension": ".py",
   "mimetype": "text/x-python",
   "name": "python",
   "nbconvert_exporter": "python",
   "pygments_lexer": "ipython3",
   "version": "3.8.5"
  }
 },
 "nbformat": 4,
 "nbformat_minor": 4
}
