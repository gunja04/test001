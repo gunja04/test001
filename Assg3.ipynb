{
 "cells": [
  {
   "cell_type": "markdown",
   "metadata": {},
   "source": [
    "1. Why are functions advantageous to have in your programs?\n",
    "Ans:Functions helps to divide the large programs into small groups so that we can read the code, and debug the program faster and better. It stop us from writing the same logic again and again. We can bind the logic in one def and then call the same over and over.\n",
    "\n",
    "2. When does the code in a function run: when it's specified or when it's called?\n",
    "Ans: When it's called.\n",
    "\n",
    "3. What statement creates a function?\n",
    "Ans: Def\n",
    "\n",
    "4. What is the difference between a function and a function call?\n",
    "Ans:A function is procedure to achieve a particular result while function call is using this function to achive that task.\n",
    "\n",
    "5. How many global scopes are there in a Python program? How many local scopes?\n",
    "Ans: There is only one global scope per program execution. This scope remains in existence until the program terminates and all its names are forgotten. \n",
    "There is only one local scope. When we assign a name in a function (instead of just referring to it in an expression), Python always creates or changes the name in the local scope, unless it’s declared to be global in that function.\n",
    "\n",
    "6. What happens to variables in a local scope when the function call returns?\n",
    "Ans: When the execution of the function terminates (returns), the local variables are destroyed.\n",
    "\n",
    "7. What is the concept of a return value? Is it possible to have a return value in an expression?\n",
    "Ans: A return statement is used to end the execution of the function call and “returns” the result to the caller. The statements after the return statements are not executed. \n",
    "If the return statement is without any expression, then the special value None is returned.\n",
    "\n",
    "8. If a function does not have a return statement, what is the return value of a call to that function?\n",
    "Ans: If a function doesn not specify a return value, it returns None.\n",
    "\n",
    "9. How do you make a function variable refer to the global variable?\n",
    "Ans: use the global keyword to declare which variables are global\n",
    "\n",
    "10. What is the data type of None?\n",
    "Ans: None is a data type of its own (NoneType) and only None can be None.\n",
    "\n",
    "11. What does the sentence import areallyourpetsnamederic do?\n",
    "Ans: Import statement imports a module named areallyourpetsnamederic\n",
    "\n",
    "12. If you had a bacon() feature in a spam module, what would you call it after importing spam?\n",
    "Ans: spam.bacon()\n",
    "\n",
    "13. What can you do to save a programme from crashing if it encounters an error?\n",
    "Ans: We use error handling to notify the user of why the error occurred and gracefully exit the process that caused the error.\n",
    "\n",
    "14. What is the purpose of the try clause? What is the purpose of the except clause?\n",
    "Ans:The try block lets us test a block of code for errors. \n",
    "    The except block lets us handle the error.\n"
   ]
  }
 ],
 "metadata": {
  "kernelspec": {
   "display_name": "Python 3",
   "language": "python",
   "name": "python3"
  },
  "language_info": {
   "codemirror_mode": {
    "name": "ipython",
    "version": 3
   },
   "file_extension": ".py",
   "mimetype": "text/x-python",
   "name": "python",
   "nbconvert_exporter": "python",
   "pygments_lexer": "ipython3",
   "version": "3.8.5"
  }
 },
 "nbformat": 4,
 "nbformat_minor": 4
}
